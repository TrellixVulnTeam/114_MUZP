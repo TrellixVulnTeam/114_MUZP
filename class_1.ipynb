{
 "cells": [
  {
   "cell_type": "code",
   "execution_count": 2,
   "metadata": {},
   "outputs": [
    {
     "name": "stdout",
     "output_type": "stream",
     "text": [
      "G\n",
      "a\n",
      "b\n",
      "a\n",
      "G\n",
      "O\n",
      "O\n",
      "L\n"
     ]
    }
   ],
   "source": [
    "for letter in 'GabaGOOL':\n",
    "    print(letter)"
   ]
  },
  {
   "cell_type": "markdown",
   "metadata": {},
   "source": [
    "# Problem 1\n",
    "### Given 2 strings (string_a and string_b) let's check whether or not they are anagrams of each other given the following criteria:\n",
    "\n",
    "> Two strings are only anagrams of each other if all conditions below are met:\n",
    "> * They must be exactly the same length.\n",
    "> * They must use exactly the same characters (no more, no less).\n",
    "\n",
    "```\n",
    "Example(s): cars and scar, heart and earth, etc.\n",
    "```"
   ]
  },
  {
   "cell_type": "code",
   "execution_count": 19,
   "metadata": {},
   "outputs": [
    {
     "name": "stdout",
     "output_type": "stream",
     "text": [
      "Cars\n",
      "True\n",
      "Cars\n",
      "False\n",
      "heart\n",
      "True\n",
      "the\n",
      "False\n",
      "I am lord voldemort\n",
      "False\n"
     ]
    }
   ],
   "source": [
    "def anagram_checker(string_a, string_b, ignore_case=True):\n",
    "    string_a.replace('', ' ')\n",
    "    string_b.replace('', ' ')\n",
    "    print(string_a)\n",
    "    if ignore_case:\n",
    "        string_a = string_a.lower()\n",
    "        string_b = string_b.lower()\n",
    "    return sorted(string_a) == sorted(string_b)\n",
    "\n",
    "\n",
    "print(anagram_checker('Cars', 'scar'))\n",
    "print(anagram_checker('Cars', 'scar', False))\n",
    "print(anagram_checker('heart', 'earth'))\n",
    "print(anagram_checker('the', 'and'))\n",
    "print(anagram_checker('I am lord voldemort', 'Tom Marvolo Riddle'))"
   ]
  },
  {
   "cell_type": "code",
   "execution_count": null,
   "metadata": {},
   "outputs": [],
   "source": []
  }
 ],
 "metadata": {
  "kernelspec": {
   "display_name": "Python 3",
   "language": "python",
   "name": "python3"
  },
  "language_info": {
   "codemirror_mode": {
    "name": "ipython",
    "version": 3
   },
   "file_extension": ".py",
   "mimetype": "text/x-python",
   "name": "python",
   "nbconvert_exporter": "python",
   "pygments_lexer": "ipython3",
   "version": "3.8.5"
  }
 },
 "nbformat": 4,
 "nbformat_minor": 5
}
