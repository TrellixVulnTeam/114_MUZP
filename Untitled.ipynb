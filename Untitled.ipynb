{
 "cells": [
  {
   "cell_type": "code",
   "execution_count": 54,
   "metadata": {},
   "outputs": [],
   "source": [
    "class Node:\n",
    "    def __init__(self, data):\n",
    "        self.data = data\n",
    "        self.next = None\n",
    "        \n",
    "class SinglyLinkedList:\n",
    "    def __init__(self):\n",
    "        self.head = None\n",
    "    \n",
    "    def append(self, item):\n",
    "        if not self.head:\n",
    "            self.head = Node(item)\n",
    "        else:\n",
    "            current = self.head\n",
    "            while current.next:\n",
    "                current = current.next\n",
    "            new_node = Node(item)\n",
    "            current.next = new_node\n",
    "            \n",
    "    def insert(self, index, item):\n",
    "        if not self.head:\n",
    "            self.head = Node(item)\n",
    "        if index == 0:\n",
    "            temp = self.head\n",
    "            self.head = Node(item)\n",
    "            self.head.next = temp\n",
    "        else:\n",
    "            count = 0\n",
    "            current = self.head\n",
    "            befor = None\n",
    "            flag = True\n",
    "            while current.next and flag:\n",
    "                befor = current\n",
    "                current = current.next\n",
    "                count += 1\n",
    "                if count == index:\n",
    "                    flag= False\n",
    "            x = Node(item)\n",
    "            befor.next = x\n",
    "            x.next = current\n",
    "            \n",
    "    def pop(self, index = None):\n",
    "        if not index:\n",
    "            current = self.head\n",
    "            past = None\n",
    "            while current.next:\n",
    "                past = current\n",
    "                current = current.next\n",
    "            past.next = None\n",
    "        else:\n",
    "            count = 0\n",
    "            past = None\n",
    "            current = self.head\n",
    "            while current.next and count < index:\n",
    "                past = current\n",
    "                current = current.next\n",
    "                count += 1\n",
    "            past.next = current.next\n",
    "            "
   ]
  },
  {
   "cell_type": "code",
   "execution_count": 61,
   "metadata": {},
   "outputs": [
    {
     "name": "stdout",
     "output_type": "stream",
     "text": [
      "-1\n",
      "0\n",
      "1\n",
      "2\n",
      "3\n"
     ]
    }
   ],
   "source": [
    "mylist = SinglyLinkedList()\n",
    "for i in range(5):\n",
    "    mylist.append(i)\n",
    "    \n",
    "current = mylist.head\n",
    "for i in range(5):\n",
    "    assert current.data == i\n",
    "    current = current.next\n",
    "    \n",
    "mylist.insert(0, -1)\n",
    "assert mylist.head.data == -1\n",
    "\n",
    "current = mylist.head\n",
    "while current.next:\n",
    "    print(current.data)\n",
    "    current = current.next\n",
    "\n",
    "mylist.pop()"
   ]
  },
  {
   "cell_type": "code",
   "execution_count": 62,
   "metadata": {},
   "outputs": [
    {
     "name": "stdout",
     "output_type": "stream",
     "text": [
      "-1\n",
      "0\n",
      "1\n",
      "2\n"
     ]
    }
   ],
   "source": [
    "# myList = SLL()\n",
    "# for i in range(5):\n",
    "#     mylist.append(i)\n",
    "    \n",
    "# current = mylist.head\n",
    "# for i in range(5):\n",
    "#     assert current.data = i\n",
    "    \n",
    "# mylist.insert(0, -1)\n",
    "# assert mylist.head.data == -1\n",
    "\n",
    "current = mylist.head\n",
    "while current.next:\n",
    "    print(current.data)\n",
    "    current = current.next"
   ]
  },
  {
   "cell_type": "code",
   "execution_count": null,
   "metadata": {},
   "outputs": [],
   "source": []
  }
 ],
 "metadata": {
  "kernelspec": {
   "display_name": "Python 3",
   "language": "python",
   "name": "python3"
  },
  "language_info": {
   "codemirror_mode": {
    "name": "ipython",
    "version": 3
   },
   "file_extension": ".py",
   "mimetype": "text/x-python",
   "name": "python",
   "nbconvert_exporter": "python",
   "pygments_lexer": "ipython3",
   "version": "3.8.5"
  }
 },
 "nbformat": 4,
 "nbformat_minor": 4
}
