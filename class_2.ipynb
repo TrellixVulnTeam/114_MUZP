{
 "cells": [
  {
   "cell_type": "code",
   "execution_count": 15,
   "metadata": {},
   "outputs": [],
   "source": [
    "class Stack:\n",
    "    def __init__(self):\n",
    "        self.items = []\n",
    "        \n",
    "    def push(self, element):\n",
    "        self.items.append(element)\n",
    "        \n",
    "    def pop(self):\n",
    "        return self.items.pop()\n",
    "    \n",
    "    def get_size(self):\n",
    "        return len(self.items)\n",
    "    \n",
    "    def is_empty(self):\n",
    "        return self.items == []"
   ]
  },
  {
   "cell_type": "code",
   "execution_count": 16,
   "metadata": {},
   "outputs": [
    {
     "name": "stdout",
     "output_type": "stream",
     "text": [
      "pushing:  1\n",
      "pushing:  2\n",
      "pushing:  3\n",
      "pushing:  4\n",
      "pushing:  5\n",
      "got:  5\n",
      "got:  4\n",
      "got:  3\n",
      "got:  2\n",
      "got:  1\n"
     ]
    }
   ],
   "source": [
    "numbers = [1,2,3,4,5]\n",
    "\n",
    "def print_invert_numbers(my_collection):\n",
    "    stack = Stack()\n",
    "    for number in numbers:\n",
    "        stack.push(number)\n",
    "        print('pushing: ', number)\n",
    "    while not stack.is_empty():\n",
    "        print('got: ', stack.pop())\n",
    "        \n",
    "print_invert_numbers(numbers)"
   ]
  },
  {
   "cell_type": "markdown",
   "metadata": {},
   "source": [
    "# Mini Challenge 1\n",
    "### use a stack to invert a string\n",
    "### Given \"mystring\" as a parameter invert it."
   ]
  },
  {
   "cell_type": "code",
   "execution_count": 37,
   "metadata": {},
   "outputs": [
    {
     "name": "stdout",
     "output_type": "stream",
     "text": [
      "niloC\n",
      "leafaR\n"
     ]
    }
   ],
   "source": [
    "def str_invert(mystring):\n",
    "    stack = Stack()\n",
    "    [stack.push(x) for x in mystring]\n",
    "    print(''.join([stack.pop() for x in range(stack.get_size())]))\n",
    "\n",
    "str_invert('Colin')\n",
    "str_invert('Rafael')"
   ]
  },
  {
   "cell_type": "code",
   "execution_count": 38,
   "metadata": {},
   "outputs": [],
   "source": [
    "class Queue:\n",
    "    def __init__(self):\n",
    "        self.items = []\n",
    "    \n",
    "    def enqueue(self, element):\n",
    "        self.items.append(element)\n",
    "        \n",
    "    def dequeue(self):\n",
    "        self.items.pop(0)\n",
    "        \n",
    "    def get_size(self):\n",
    "        return len(self.items)\n",
    "    \n",
    "    def is_empty(self):\n",
    "        return self.items == []"
   ]
  },
  {
   "cell_type": "code",
   "execution_count": 9,
   "metadata": {},
   "outputs": [],
   "source": [
    "class Queue2Stacks:\n",
    "    def __init__(self):\n",
    "        self.stack_1 = []\n",
    "        self.stack_2 = []\n",
    "        \n",
    "    def push(self, element):\n",
    "        self.stack_1.append(element)\n",
    "    \n",
    "    def get_size(self):\n",
    "        return len(self.stack_1)\n",
    "    \n",
    "    def is_empty(self):\n",
    "        return self.stack_1 == []\n",
    "    \n",
    "    def pop(self):\n",
    "        if self.stack_1 != []:\n",
    "            self.stack_2 = [self.stack_1.pop() for x in range(self.get_size())]\n",
    "        return self.stack_2.pop()\n",
    "        "
   ]
  },
  {
   "cell_type": "code",
   "execution_count": 12,
   "metadata": {},
   "outputs": [
    {
     "name": "stdout",
     "output_type": "stream",
     "text": [
      "[1, 2, 3, 4]\n"
     ]
    }
   ],
   "source": [
    "numbers = [1,2,3,4]\n",
    "\n",
    "def test_queue(nums):\n",
    "    stack = Queue2Stacks()\n",
    "    [stack.push(x) for x in nums]\n",
    "    print([stack.pop() for x in range(stack.get_size())])\n",
    "    \n",
    "test_queue(numbers)"
   ]
  },
  {
   "cell_type": "markdown",
   "metadata": {},
   "source": [
    "# Parentheses Check\n",
    "## Given a string of opening and closing parenteses check wheter its balanced\n",
    "### Uses (), [], {}"
   ]
  },
  {
   "cell_type": "code",
   "execution_count": null,
   "metadata": {},
   "outputs": [],
   "source": [
    "def balance_checker(s):\n",
    "    "
   ]
  }
 ],
 "metadata": {
  "kernelspec": {
   "display_name": "Python 3",
   "language": "python",
   "name": "python3"
  },
  "language_info": {
   "codemirror_mode": {
    "name": "ipython",
    "version": 3
   },
   "file_extension": ".py",
   "mimetype": "text/x-python",
   "name": "python",
   "nbconvert_exporter": "python",
   "pygments_lexer": "ipython3",
   "version": "3.8.5"
  }
 },
 "nbformat": 4,
 "nbformat_minor": 4
}
